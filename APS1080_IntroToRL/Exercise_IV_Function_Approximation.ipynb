{
  "cells": [
    {
      "cell_type": "markdown",
      "metadata": {
        "id": "5n0een57cX4y"
      },
      "source": [
        "# **APS1080: Introduction to Reinforcement Learning**\n",
        "---\n",
        "\n",
        "**Student Name**: \n",
        "\n",
        "---\n",
        "\n",
        "\n",
        "\n",
        "**Student ID:** \n",
        "\n",
        "---\n",
        "**Exercise IV**: Function Approximation\n",
        "\n",
        "\n",
        "------"
      ]
    },
    {
      "cell_type": "markdown",
      "metadata": {
        "id": "-5-hc4fScnjp"
      },
      "source": [
        "You will use function approximation to device controllers for the mountain car and/or cart pole problems in Assignment IV.\n",
        "\n",
        "Rather than code a function approximation class (straightforward but outside of the scope of our course), you'll use a library, TensorFlow, for this.\n",
        "\n",
        "There are two front ends for TensorFlow that make it easier to construct, debug, etc., neural networks (general nonlinear function approximation structures): Keras (keras.io) and TfLearn (tflearn.org).\n",
        "\n",
        "Consult the documentation for these two (either, your choice) and learn how to:\n",
        "\n",
        "Construct a neural network with several layers\n",
        "Obtain the gradient of the neural network with respect to its parameters\n",
        "Train the neural network by stochastic gradient descent using a loop that you construct and in which you update the weights as per the gradient and the error (you will use this in A-IV)"
      ]
    },
    {
      "cell_type": "code",
      "execution_count": 30,
      "metadata": {
        "id": "L6L11hH9anOK"
      },
      "outputs": [],
      "source": [
        "import numpy as np  # Library for numerical operations\n",
        "import tensorflow as tf  # TensorFlow library\n",
        "import keras  # neural networks API\n",
        "\n",
        "from matplotlib import pyplot as plt # Library for plotting\n",
        "from tensorflow.keras.models import Sequential\n",
        "from tensorflow.keras.layers import Dense"
      ]
    },
    {
      "cell_type": "markdown",
      "metadata": {
        "id": "T0xbyLIqcsYa"
      },
      "source": [
        "----\n",
        "## **Construct a neural network with several layers**"
      ]
    },
    {
      "cell_type": "code",
      "execution_count": 31,
      "metadata": {
        "colab": {
          "base_uri": "https://localhost:8080/"
        },
        "id": "ZYLVD9v4eG0c",
        "outputId": "5b5757b9-4b48-4f5b-d0e2-db9b8ee27964"
      },
      "outputs": [
        {
          "name": "stdout",
          "output_type": "stream",
          "text": [
            "Model: \"model_5\"\n",
            "_________________________________________________________________\n",
            " Layer (type)                Output Shape              Param #   \n",
            "=================================================================\n",
            " states (InputLayer)         [(None, 1)]               0         \n",
            "                                                                 \n",
            " dense_16 (Dense)            (None, 64)                128       \n",
            "                                                                 \n",
            " dense_17 (Dense)            (None, 64)                4160      \n",
            "                                                                 \n",
            " actions (Dense)             (None, 1)                 65        \n",
            "                                                                 \n",
            "=================================================================\n",
            "Total params: 4353 (17.00 KB)\n",
            "Trainable params: 4353 (17.00 KB)\n",
            "Non-trainable params: 0 (0.00 Byte)\n",
            "_________________________________________________________________\n"
          ]
        }
      ],
      "source": [
        "class CustomNeuralNetwork:\n",
        "    def __init__(self, p_inputSpace=1, p_outputSpace=1, hidden_units=64):\n",
        "        # Initialize parameters\n",
        "        # Dimensionality of the input space\n",
        "        self.p_inputSpace = p_inputSpace\n",
        "\n",
        "         # Dimensionality of the output space\n",
        "        self.p_outputSpace = p_outputSpace\n",
        "\n",
        "        # Number of units in each hidden layer\n",
        "        self.hidden_units = hidden_units\n",
        "\n",
        "        # Build the neural network model\n",
        "        self.build_model()\n",
        "\n",
        "    def build_model(self):\n",
        "        # Define input layer with specified input space dimension\n",
        "        inputs = keras.Input(shape=(self.p_inputSpace,), name=\"states\")\n",
        "\n",
        "        # First hidden layer with ReLU activation and specified number of units\n",
        "        x1 = Dense(self.hidden_units, activation='relu')(inputs)\n",
        "\n",
        "        # Second hidden layer with ReLU activation and specified number of units\n",
        "        x2 = Dense(self.hidden_units, activation='relu')(x1)\n",
        "\n",
        "        # Output layer with linear activation and specified output space dimension\n",
        "        outputs = Dense(self.p_outputSpace, name=\"actions\")(x2)\n",
        "\n",
        "        # Create the Keras Model using Functional API\n",
        "        self.model = keras.Model(inputs=inputs, outputs=outputs)\n",
        "\n",
        "# Example Test:\n",
        "custom_model = CustomNeuralNetwork(p_inputSpace=1, p_outputSpace=1, hidden_units=64)\n",
        "\n",
        "# Print the summary\n",
        "custom_model.model.summary()"
      ]
    },
    {
      "cell_type": "markdown",
      "metadata": {
        "id": "AOB4Vqn8gpIC"
      },
      "source": [
        "---\n",
        "## **Obtain the gradient of the neural network with respect to its parameters**"
      ]
    },
    {
      "cell_type": "code",
      "execution_count": 32,
      "metadata": {
        "colab": {
          "base_uri": "https://localhost:8080/"
        },
        "id": "VCGAI2yJer5S",
        "outputId": "71889457-a52f-44b3-e380-46bec2df0302"
      },
      "outputs": [
        {
          "name": "stdout",
          "output_type": "stream",
          "text": [
            "Gradients for first layer weights:\n",
            "tf.Tensor(\n",
            "[[ 0.          0.1222241   0.          0.22733578 -0.09538677 -0.07672296\n",
            "  -0.13687123  0.          0.18984254  0.          0.09961198  0.24773592\n",
            "   0.          0.          0.07323691  0.          0.         -0.14498492\n",
            "   0.19220784  0.          0.          0.17748906  0.          0.09054417\n",
            "   0.          0.          0.10790931  0.          0.         -0.22061971\n",
            "   0.          0.11260959  0.3513683  -0.0727589   0.         -0.4970609\n",
            "   0.30304623  0.          0.          0.          0.10007786  0.\n",
            "   0.         -0.00456371  0.1655031  -0.08587494 -0.20636661  0.\n",
            "   0.          0.          0.20579314  0.          0.11837491  0.3556263\n",
            "   0.20862207  0.          0.          0.          0.01538355  0.24211682\n",
            "  -0.08633793  0.          0.          0.        ]], shape=(1, 64), dtype=float32)\n"
          ]
        }
      ],
      "source": [
        "# Example data\n",
        "x = tf.random.normal(shape=(1, 1))\n",
        "\n",
        "# Compute gradients using GradientTape\n",
        "with tf.GradientTape() as tape:\n",
        "    predictions = custom_model.model(x)\n",
        "gradients = tape.gradient(predictions, custom_model.model.trainable_variables)\n",
        "\n",
        "# Print some of the gradients\n",
        "print(\"Gradients for first layer weights:\")\n",
        "print(gradients[0])  # Assuming gradients[0] corresponds to the first layer's weights\n"
      ]
    },
    {
      "cell_type": "markdown",
      "metadata": {
        "id": "-uD4KmEggufb"
      },
      "source": [
        "---\n",
        "\n",
        "## **Train the neural network by stochastic gradient descent using a loop that you construct and in which you update the weights as per the gradient and the error**"
      ]
    },
    {
      "cell_type": "code",
      "execution_count": 33,
      "metadata": {
        "colab": {
          "base_uri": "https://localhost:8080/"
        },
        "id": "UmTrZKAUgYek",
        "outputId": "662c6c4b-5f0e-4a91-b1b1-edeb5a113f79"
      },
      "outputs": [
        {
          "name": "stdout",
          "output_type": "stream",
          "text": [
            "Epoch 1/40, Batch 1, Error: 23.1315\n",
            "Epoch 2/40, Batch 1, Error: 99.7731\n",
            "Epoch 3/40, Batch 1, Error: 24.0403\n",
            "Epoch 4/40, Batch 1, Error: 23.2465\n",
            "Epoch 5/40, Batch 1, Error: 22.4342\n",
            "Epoch 6/40, Batch 1, Error: 18.9320\n",
            "Epoch 7/40, Batch 1, Error: 17.9196\n",
            "Epoch 8/40, Batch 1, Error: 70.2815\n",
            "Epoch 9/40, Batch 1, Error: 18.7538\n",
            "Epoch 10/40, Batch 1, Error: 60.8760\n",
            "Epoch 11/40, Batch 1, Error: 12.5431\n",
            "Epoch 12/40, Batch 1, Error: 0.0172\n",
            "Epoch 13/40, Batch 1, Error: 9.3296\n",
            "Epoch 14/40, Batch 1, Error: 7.7127\n",
            "Epoch 15/40, Batch 1, Error: 6.1075\n",
            "Epoch 16/40, Batch 1, Error: 38.8221\n",
            "Epoch 17/40, Batch 1, Error: 20.2342\n",
            "Epoch 18/40, Batch 1, Error: 2.1749\n",
            "Epoch 19/40, Batch 1, Error: 11.3670\n",
            "Epoch 20/40, Batch 1, Error: 0.7115\n",
            "Epoch 21/40, Batch 1, Error: 0.0058\n",
            "Epoch 22/40, Batch 1, Error: 3.8870\n",
            "Epoch 23/40, Batch 1, Error: 0.1999\n",
            "Epoch 24/40, Batch 1, Error: 1.7768\n",
            "Epoch 25/40, Batch 1, Error: 0.0026\n",
            "Epoch 26/40, Batch 1, Error: 0.0056\n",
            "Epoch 27/40, Batch 1, Error: 0.0813\n",
            "Epoch 28/40, Batch 1, Error: 0.0088\n",
            "Epoch 29/40, Batch 1, Error: 0.4796\n",
            "Epoch 30/40, Batch 1, Error: 0.2233\n",
            "Epoch 31/40, Batch 1, Error: 0.2702\n",
            "Epoch 32/40, Batch 1, Error: 0.3070\n",
            "Epoch 33/40, Batch 1, Error: 0.2677\n",
            "Epoch 34/40, Batch 1, Error: 0.1287\n",
            "Epoch 35/40, Batch 1, Error: 0.3297\n",
            "Epoch 36/40, Batch 1, Error: 0.1541\n",
            "Epoch 37/40, Batch 1, Error: 0.0072\n",
            "Epoch 38/40, Batch 1, Error: 0.3211\n",
            "Epoch 39/40, Batch 1, Error: 0.0043\n",
            "Epoch 40/40, Batch 1, Error: 0.0055\n"
          ]
        }
      ],
      "source": [
        "# Instantiate the CustomNeuralNetwork class\n",
        "custom_model = CustomNeuralNetwork(p_inputSpace=1, p_outputSpace=1, hidden_units=64)\n",
        "\n",
        "# Optimizer and loss function\n",
        "alpha = 0.001\n",
        "optimizer = keras.optimizers.SGD(learning_rate=alpha)\n",
        "f_ppError = keras.losses.MeanSquaredError()\n",
        "\n",
        "# Training data\n",
        "train = np.array([[-2, -10], [-1, -5], [0, 0], [1, 5], [2, 10]])\n",
        "x_train = train[:, 0]\n",
        "y_train = train[:, 1]\n",
        "batch_size = 1\n",
        "train_dataset = tf.data.Dataset.from_tensor_slices((x_train, y_train))\n",
        "train_dataset = train_dataset.shuffle(buffer_size=1024).batch(batch_size)\n",
        "\n",
        "epochs = 40\n",
        "\n",
        "# Training loop\n",
        "for epoch in range(epochs):\n",
        "    epoch_loss_avg = tf.keras.metrics.Mean()\n",
        "\n",
        "    # Iterate over batches\n",
        "    for step, (x_batch_train, y_batch_train) in enumerate(train_dataset):\n",
        "        with tf.GradientTape() as tape:\n",
        "            predictions = custom_model.model(x_batch_train, training=True)\n",
        "            ppError = f_ppError(y_batch_train, predictions)\n",
        "        grads = tape.gradient(ppError, custom_model.model.trainable_weights)\n",
        "        optimizer.apply_gradients(zip(grads, custom_model.model.trainable_weights))\n",
        "\n",
        "        # Print batch error\n",
        "        if step % 10 == 0:\n",
        "            print(f\"Epoch {epoch + 1}/{epochs}, Batch {step + 1}, Error: {float(ppError):.4f}\")\n"
      ]
    },
    {
      "cell_type": "code",
      "execution_count": 34,
      "metadata": {
        "colab": {
          "base_uri": "https://localhost:8080/",
          "height": 489
        },
        "id": "VlyaG0Qbha10",
        "outputId": "e0a486eb-8af7-4a58-dfbc-0426b451a114"
      },
      "outputs": [
        {
          "name": "stdout",
          "output_type": "stream",
          "text": [
            "2/2 [==============================] - 0s 6ms/step\n"
          ]
        },
        {
          "data": {
            "image/png": "[encoded data removed]",
            "text/plain": [
              "<Figure size 640x480 with 1 Axes>"
            ]
          },
          "metadata": {},
          "output_type": "display_data"
        }
      ],
      "source": [
        "# Generate predictions for plotting\n",
        "D = np.arange(-2, 2, 0.1)\n",
        "R = custom_model.model.predict(D)\n",
        "\n",
        "# Plotting\n",
        "plt.figure()\n",
        "plt.plot(x_train, y_train, 'gx', label='Training data')\n",
        "plt.plot(D, R, 'r-', label='Predictions')\n",
        "plt.xlabel('Input')\n",
        "plt.ylabel('Output')\n",
        "plt.title('Training Data and Predictions')\n",
        "plt.legend()\n",
        "plt.grid()\n",
        "plt.show()"
      ]
    },
    {
      "cell_type": "code",
      "execution_count": 35,
      "metadata": {
        "colab": {
          "base_uri": "https://localhost:8080/"
        },
        "id": "h8eLPVmnh6gs",
        "outputId": "6252831b-7f81-4acd-b4e1-33e424cce904"
      },
      "outputs": [
        {
          "name": "stdout",
          "output_type": "stream",
          "text": [
            "[NbConvertApp] Converting notebook /content/Exercise_IV_Function_Approximation.ipynb to html\n",
            "[NbConvertApp] Writing 649681 bytes to /content/Exercise_IV_Function_Approximation.html\n"
          ]
        }
      ],
      "source": [
        "!jupyter nbconvert --to html /content/Exercise_IV_Function_Approximation.ipynb"
      ]
    },
    {
      "cell_type": "code",
      "execution_count": null,
      "metadata": {
        "id": "7bTiDi2_ic6E"
      },
      "outputs": [],
      "source": []
    }
  ],
  "metadata": {
    "colab": {
      "provenance": []
    },
    "kernelspec": {
      "display_name": "Python 3",
      "name": "python3"
    },
    "language_info": {
      "name": "python"
    }
  },
  "nbformat": 4,
  "nbformat_minor": 0
}
