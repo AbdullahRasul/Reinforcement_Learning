{
  "nbformat": 4,
  "nbformat_minor": 0,
  "metadata": {
    "colab": {
      "provenance": []
    },
    "kernelspec": {
      "name": "python3",
      "display_name": "Python 3"
    },
    "accelerator": "GPU"
  },
  "cells": [
    {
      "cell_type": "markdown",
      "source": [
        "# **APS1080: Introduction to Reinforcement Learning**\n",
        "---\n",
        "\n",
        "**Student Name:**\n",
        "\n",
        "**Student ID:**\n",
        "\n",
        "---\n",
        "\n",
        "**Exercise 2:** Cart Pole preliminaries and Monte Carlo\n",
        "\n"
      ],
      "metadata": {
        "id": "XukQ-DWEJ1dt"
      }
    },
    {
      "cell_type": "code",
      "metadata": {
        "id": "1XDvssQd64Pf"
      },
      "source": [
        "!apt-get install -y xvfb python-opengl > /dev/null 2>&1"
      ],
      "execution_count": 4,
      "outputs": []
    },
    {
      "cell_type": "code",
      "metadata": {
        "id": "F5esgX013vPe"
      },
      "source": [
        "!pip install gym pyvirtualdisplay > /dev/null 2>&1"
      ],
      "execution_count": 5,
      "outputs": []
    },
    {
      "cell_type": "code",
      "source": [
        "!apt install xvfb"
      ],
      "metadata": {
        "id": "hBDacu1MsiGD"
      },
      "execution_count": null,
      "outputs": []
    },
    {
      "cell_type": "code",
      "metadata": {
        "id": "Qbi2xaFo31Sj"
      },
      "source": [
        "import gym\n",
        "import numpy as np\n",
        "import matplotlib.pyplot as plt\n",
        "from IPython import display as ipythondisplay"
      ],
      "execution_count": 9,
      "outputs": []
    },
    {
      "cell_type": "code",
      "metadata": {
        "id": "FGqXqJxoAsHG",
        "colab": {
          "base_uri": "https://localhost:8080/",
          "height": 0
        },
        "outputId": "8b44f766-bc73-447f-e19c-f069fa205609"
      },
      "source": [
        "from pyvirtualdisplay import Display\n",
        "display = Display(visible=0, size=(400, 300))\n",
        "display.start()"
      ],
      "execution_count": 10,
      "outputs": [
        {
          "output_type": "execute_result",
          "data": {
            "text/plain": [
              "<pyvirtualdisplay.display.Display at 0x7eefb4780670>"
            ]
          },
          "metadata": {},
          "execution_count": 10
        }
      ]
    },
    {
      "cell_type": "code",
      "metadata": {
        "id": "6L4YayzR4FYj",
        "colab": {
          "base_uri": "https://localhost:8080/",
          "height": 413
        },
        "outputId": "900c3b45-c989-4a87-e2b8-3c109b4ec933"
      },
      "source": [
        "env = gym.make(\"CartPole-v0\")\n",
        "env.reset()\n",
        "prev_screen = env.render(mode='rgb_array')\n",
        "plt.imshow(prev_screen)\n",
        "\n",
        "for i in range(50000):\n",
        "  action = env.action_space.sample()\n",
        "  print(\"step i\",i,\"action=\",action)\n",
        "  obs, reward, done, info = env.step(action)\n",
        "  print(\"obs=\",obs,\"reward=\",reward,\"done=\",done,\"info=\",info)\n",
        "  screen = env.render(mode='rgb_array')\n",
        "\n",
        "  plt.imshow(screen)\n",
        "  ipythondisplay.clear_output(wait=True)\n",
        "  ipythondisplay.display(plt.gcf())\n",
        "\n",
        "  if done:\n",
        "    break\n",
        "\n",
        "ipythondisplay.clear_output(wait=True)\n",
        "env.close()\n",
        "print(\"Iterations that were run:\",i)"
      ],
      "execution_count": 11,
      "outputs": [
        {
          "output_type": "stream",
          "name": "stdout",
          "text": [
            "Iterations that were run: 37\n"
          ]
        },
        {
          "output_type": "display_data",
          "data": {
            "text/plain": [
              "<Figure size 640x480 with 1 Axes>"
            ],
            "image/png": "[encoded data removed]"
          },
          "metadata": {}
        }
      ]
    },
    {
      "cell_type": "markdown",
      "source": [
        "----\n",
        "\n",
        "# **Exercise 1:**\n",
        "\n",
        "Can you design a dynamic programming based policy for the agent as in assignment 1? If so, design it and demonstrate that it solves the cart pole problem.\n",
        "\n",
        "--\n",
        "\n",
        "**Reasons DP is Not Suitable for CartPole:**\n",
        "\n",
        "- CartPole has a continuous state space (cart position, cart velocity, pole angle, pole angular velocity), which DP typically cannot handle without discretization. Discretizing such a space would lead to an impractically large number of states.\n",
        "\n",
        "- Discretizing a four-dimensional continuous space into a finite set of states would result in a massive state space, making computations infeasible and inefficient.\n",
        "\n",
        "- While CartPole has a discrete action space (move left or right), combining it with a large, discretized state space exacerbates the computational challenges of DP.\n",
        "\n",
        "- DP requires a complete model of the environment, including transition dynamics and rewards, to compute optimal value functions or policies. In reinforcement learning problems like CartPole, this model is typically not available or accessible.\n",
        "\n",
        "- DP methods assume offline computation with full knowledge of the environment dynamics and state space. In contrast, CartPole and similar RL problems require online learning where agents interact with the environment to learn without complete knowledge of its dynamics.\n",
        "\n",
        "Dynamic programming, due to its reliance on a discrete and known state space, is not suitable for solving CartPole directly. This is because dynamic programming requires an explicit model of the environment's transition dynamics, which describes how the state changes in response to actions. In the CartPole problem, the environment is continuous and often complex, making it difficult to define a precise model for these dynamics.\n"
      ],
      "metadata": {
        "id": "XGErf3hRtdZ7"
      }
    },
    {
      "cell_type": "markdown",
      "source": [
        "# **Exercise 2:**\n",
        "\n",
        "Can you design a Monte Carlo based policy for the agent? What ingredients do you require? Explain the design flow, and execute it. Show that it works, or indicate why you can't proceed.\n",
        "\n",
        "--\n",
        "\n",
        "### **Monte Carlo-based Policy for CartPole Environment**\n",
        "\n",
        "**What ingredients do you require?:**\n",
        "\n",
        "- **Environment:** The CartPole environment from OpenAI Gym.\n",
        "- **Policy:** policy specifying the probability distribution over actions given a state.\n",
        "- **Sample Generation:** Generating episodes by following the policy and interacting with the environment.\n",
        "- **Monte Carlo Estimation:** Estimating the value function using sampled episodes.\n",
        "- **Policy Improvement:** Updating the policy based on the estimated value function.\n",
        "\n",
        "--\n",
        "\n",
        "**Explain the design flow, and execute it**\n",
        "\n",
        "\n",
        "**Initialization:**\n",
        "\n",
        "- The CartPole environment is initialized using Gym (gym.make('CartPole-v0')).\n",
        "- A stochastic policy (epsilon_soft_policy) is defined, which is initially ε-soft (exploratory).\n",
        "- The number of episodes (num_episodes) for policy evaluation is set.\n",
        "- Data structures (Q and N) are initialized to store the action-value function (Q) and visitation counts.\n",
        "\n",
        "**Episode Generation:**\n",
        "\n",
        "- For each episode, the environment is reset (env.reset()) to get the initial state.\n",
        "- Actions are chosen based on the ε-soft policy (epsilon_soft_policy) until the episode ends (done=True).\n",
        "- States (episode_states), actions (episode_actions), and rewards (episode_rewards) are recorded during the episode.\n",
        "\n",
        "**Monte Carlo Estimation (First-Visit MC):**\n",
        "\n",
        "- After an episode ends, the return $G_t$ is calculated for each state-action pair from the first occurrence to the end of the episode.\n",
        "- For each state-action pair, the Q-value is updated using the Monte Carlo incremental update rule: $𝑄(𝑆_𝑡,𝐴_𝑡)←𝑄(𝑆_𝑡,𝐴_𝑡)+𝛼(𝐺_𝑡−𝑄(𝑆_𝑡,𝐴_𝑡))$\n",
        "\n",
        "where $𝛼$ is the learning rate.\n",
        "Policy Improvement:\n",
        "\n",
        "- The policy is updated to be greedy with respect to the updated Q-values: $π(s)=argmax_aQ(s,a)$\n",
        "\n",
        "**Repeat:**\n",
        "\n",
        "- Steps 2 to 4 are repeated for a number of episodes (num_episodes) until the policy converges or a sufficient number of episodes are completed."
      ],
      "metadata": {
        "id": "sYWW4mr0w6Wj"
      }
    },
    {
      "cell_type": "code",
      "source": [
        "import numpy as np\n",
        "import gym\n",
        "from collections import defaultdict\n",
        "\n",
        "# Initialize environment\n",
        "env = gym.make('CartPole-v0')\n",
        "\n",
        "# Set random seed for reproducibility\n",
        "np.random.seed(42)\n",
        "\n",
        "# Define ε-soft policy parameters\n",
        "epsilon = 0.1  # Exploration parameter\n",
        "action_space_size = env.action_space.n  # Number of actions\n",
        "\n",
        "# Initialize Q-values and visitation counts\n",
        "Q = defaultdict(lambda: np.zeros(action_space_size))  # Q-function: defaultdict with initial values of zeros\n",
        "N = defaultdict(lambda: np.zeros(action_space_size))  # Visit count: defaultdict with initial values of zeros\n",
        "\n",
        "# Function to generate an ε-soft policy\n",
        "def epsilon_soft_policy(state):\n",
        "    state_tuple = tuple(state)  # Convert state to tuple for hashing\n",
        "    probabilities = np.ones(action_space_size) * epsilon / action_space_size  # Initialize equal probabilities for each action\n",
        "    best_action = np.argmax(Q[state_tuple])  # Get the best action based on Q-values\n",
        "    probabilities[best_action] += 1.0 - epsilon  # Update the probability of the best action\n",
        "    return np.random.choice(action_space_size, p=probabilities)  # Choose action based on probabilities\n",
        "\n",
        "# Function to run on-policy first-visit MC control\n",
        "def on_policy_first_visit_MC(env, num_episodes, gamma):\n",
        "    total_iterations = 0  # Initialize total iterations counter\n",
        "    for episode in range(num_episodes):\n",
        "        episode_states = []  # List to store states in the current episode\n",
        "        episode_actions = []  # List to store actions in the current episode\n",
        "        episode_rewards = []  # List to store rewards in the current episode\n",
        "        state = env.reset()  # Reset environment to start new episode and get initial state\n",
        "        while True:\n",
        "            action = epsilon_soft_policy(state)  # Choose action based on ε-soft policy\n",
        "            next_state, reward, done, _ = env.step(action)  # Take action and observe next state and reward\n",
        "            episode_states.append(state)  # Append current state to episode states\n",
        "            episode_actions.append(action)  # Append chosen action to episode actions\n",
        "            episode_rewards.append(reward)  # Append received reward to episode rewards\n",
        "            state = next_state  # Update current state to next state\n",
        "            if done:  # If episode is done (pole has fallen or max steps reached), exit loop\n",
        "                break\n",
        "\n",
        "        G = 0  # Initialize return (cumulative reward)\n",
        "        # Loop backward through episode to calculate returns and update Q-values\n",
        "        for t in range(len(episode_states) - 1, -1, -1):\n",
        "            state = tuple(episode_states[t])  # Convert current state to tuple for hashing\n",
        "            action = episode_actions[t]  # Get action at current time step\n",
        "            reward = episode_rewards[t]  # Get reward at current time step\n",
        "            G = gamma * G + reward  # Update return (cumulative reward)\n",
        "            N[state][action] += 1  # Increment visitation count for state-action pair\n",
        "            # Update Q-value using incremental update rule based on the return and visitation count\n",
        "            Q[state][action] += (G - Q[state][action]) / N[state][action]\n",
        "            pi_S_t = np.argmax(Q[state])  # Greedy policy improvement: Get the best action for the current state\n",
        "            if action != pi_S_t:  # Check if action is not the best action\n",
        "                break  # Exit loop if action is not optimal\n",
        "\n",
        "        # Print Q-values after every 100 episodes\n",
        "        if (episode + 1) % 100 == 0:\n",
        "            print(f\"Episode: {episode + 1}\")\n",
        "            for idx, (state, q_values) in enumerate(Q.items()):\n",
        "                if idx < 3:  # Print Q-values for the first three states for brevity\n",
        "                    print(\"Print Q-values for the first three states for brevity\")\n",
        "                    print(f\"State: {state} Q-values: {q_values}\")\n",
        "            print()\n",
        "\n",
        "        total_iterations += len(episode_states)  # Accumulate total iterations\n",
        "\n",
        "# Run on-policy first-visit MC control\n",
        "num_episodes = 1000  # Number of episodes\n",
        "gamma = 1.0  # Discount factor\n",
        "\n",
        "on_policy_first_visit_MC(env, num_episodes, gamma)  # Execute on-policy first-visit MC control\n"
      ],
      "metadata": {
        "colab": {
          "base_uri": "https://localhost:8080/",
          "height": 0
        },
        "id": "YLkxbumaByrx",
        "outputId": "fdb8d7e5-5a74-4ab6-a7e9-0f1d7a26ba42"
      },
      "execution_count": 50,
      "outputs": [
        {
          "output_type": "stream",
          "name": "stderr",
          "text": [
            "/usr/local/lib/python3.10/dist-packages/ipykernel/ipkernel.py:283: DeprecationWarning: `should_run_async` will not call `transform_cell` automatically in the future. Please pass the result to `transformed_cell` argument and any exception that happen during thetransform in `preprocessing_exc_tuple` in IPython 7.17 and above.\n",
            "  and should_run_async(code)\n",
            "/usr/local/lib/python3.10/dist-packages/gym/envs/registration.py:593: UserWarning: \u001b[33mWARN: The environment CartPole-v0 is out of date. You should consider upgrading to version `v1`.\u001b[0m\n",
            "  logger.warn(\n",
            "/usr/local/lib/python3.10/dist-packages/gym/core.py:317: DeprecationWarning: \u001b[33mWARN: Initializing wrapper in old step API which returns one bool instead of two. It is recommended to set `new_step_api=True` to use new step API. This will be the default behaviour in future.\u001b[0m\n",
            "  deprecation(\n",
            "/usr/local/lib/python3.10/dist-packages/gym/wrappers/step_api_compatibility.py:39: DeprecationWarning: \u001b[33mWARN: Initializing environment in old step API which returns one bool instead of two. It is recommended to set `new_step_api=True` to use new step API. This will be the default behaviour in future.\u001b[0m\n",
            "  deprecation(\n",
            "/usr/local/lib/python3.10/dist-packages/gym/utils/passive_env_checker.py:241: DeprecationWarning: `np.bool8` is a deprecated alias for `np.bool_`.  (Deprecated NumPy 1.24)\n",
            "  if not isinstance(terminated, (bool, np.bool8)):\n"
          ]
        },
        {
          "output_type": "stream",
          "name": "stdout",
          "text": [
            "Episode: 100\n",
            "Print Q-values for the first three states for brevity\n",
            "State: (0.04755219, -0.0043567624, -0.049008306, 0.04283846) Q-values: [12.  0.]\n",
            "Print Q-values for the first three states for brevity\n",
            "State: (0.047465056, -0.19874294, -0.048151534, 0.31966496) Q-values: [ 0. 11.]\n",
            "Print Q-values for the first three states for brevity\n",
            "State: (0.043490198, -0.0029694792, -0.041758236, 0.012194062) Q-values: [10.  0.]\n",
            "\n",
            "Episode: 200\n",
            "Print Q-values for the first three states for brevity\n",
            "State: (0.04755219, -0.0043567624, -0.049008306, 0.04283846) Q-values: [12.  0.]\n",
            "Print Q-values for the first three states for brevity\n",
            "State: (0.047465056, -0.19874294, -0.048151534, 0.31966496) Q-values: [ 0. 11.]\n",
            "Print Q-values for the first three states for brevity\n",
            "State: (0.043490198, -0.0029694792, -0.041758236, 0.012194062) Q-values: [10.  0.]\n",
            "\n",
            "Episode: 300\n",
            "Print Q-values for the first three states for brevity\n",
            "State: (0.04755219, -0.0043567624, -0.049008306, 0.04283846) Q-values: [12.  0.]\n",
            "Print Q-values for the first three states for brevity\n",
            "State: (0.047465056, -0.19874294, -0.048151534, 0.31966496) Q-values: [ 0. 11.]\n",
            "Print Q-values for the first three states for brevity\n",
            "State: (0.043490198, -0.0029694792, -0.041758236, 0.012194062) Q-values: [10.  0.]\n",
            "\n",
            "Episode: 400\n",
            "Print Q-values for the first three states for brevity\n",
            "State: (0.04755219, -0.0043567624, -0.049008306, 0.04283846) Q-values: [12.  0.]\n",
            "Print Q-values for the first three states for brevity\n",
            "State: (0.047465056, -0.19874294, -0.048151534, 0.31966496) Q-values: [ 0. 11.]\n",
            "Print Q-values for the first three states for brevity\n",
            "State: (0.043490198, -0.0029694792, -0.041758236, 0.012194062) Q-values: [10.  0.]\n",
            "\n",
            "Episode: 500\n",
            "Print Q-values for the first three states for brevity\n",
            "State: (0.04755219, -0.0043567624, -0.049008306, 0.04283846) Q-values: [12.  0.]\n",
            "Print Q-values for the first three states for brevity\n",
            "State: (0.047465056, -0.19874294, -0.048151534, 0.31966496) Q-values: [ 0. 11.]\n",
            "Print Q-values for the first three states for brevity\n",
            "State: (0.043490198, -0.0029694792, -0.041758236, 0.012194062) Q-values: [10.  0.]\n",
            "\n",
            "Episode: 600\n",
            "Print Q-values for the first three states for brevity\n",
            "State: (0.04755219, -0.0043567624, -0.049008306, 0.04283846) Q-values: [12.  0.]\n",
            "Print Q-values for the first three states for brevity\n",
            "State: (0.047465056, -0.19874294, -0.048151534, 0.31966496) Q-values: [ 0. 11.]\n",
            "Print Q-values for the first three states for brevity\n",
            "State: (0.043490198, -0.0029694792, -0.041758236, 0.012194062) Q-values: [10.  0.]\n",
            "\n",
            "Episode: 700\n",
            "Print Q-values for the first three states for brevity\n",
            "State: (0.04755219, -0.0043567624, -0.049008306, 0.04283846) Q-values: [12.  0.]\n",
            "Print Q-values for the first three states for brevity\n",
            "State: (0.047465056, -0.19874294, -0.048151534, 0.31966496) Q-values: [ 0. 11.]\n",
            "Print Q-values for the first three states for brevity\n",
            "State: (0.043490198, -0.0029694792, -0.041758236, 0.012194062) Q-values: [10.  0.]\n",
            "\n",
            "Episode: 800\n",
            "Print Q-values for the first three states for brevity\n",
            "State: (0.04755219, -0.0043567624, -0.049008306, 0.04283846) Q-values: [12.  0.]\n",
            "Print Q-values for the first three states for brevity\n",
            "State: (0.047465056, -0.19874294, -0.048151534, 0.31966496) Q-values: [ 0. 11.]\n",
            "Print Q-values for the first three states for brevity\n",
            "State: (0.043490198, -0.0029694792, -0.041758236, 0.012194062) Q-values: [10.  0.]\n",
            "\n",
            "Episode: 900\n",
            "Print Q-values for the first three states for brevity\n",
            "State: (0.04755219, -0.0043567624, -0.049008306, 0.04283846) Q-values: [12.  0.]\n",
            "Print Q-values for the first three states for brevity\n",
            "State: (0.047465056, -0.19874294, -0.048151534, 0.31966496) Q-values: [ 0. 11.]\n",
            "Print Q-values for the first three states for brevity\n",
            "State: (0.043490198, -0.0029694792, -0.041758236, 0.012194062) Q-values: [10.  0.]\n",
            "\n",
            "Episode: 1000\n",
            "Print Q-values for the first three states for brevity\n",
            "State: (0.04755219, -0.0043567624, -0.049008306, 0.04283846) Q-values: [12.  0.]\n",
            "Print Q-values for the first three states for brevity\n",
            "State: (0.047465056, -0.19874294, -0.048151534, 0.31966496) Q-values: [ 0. 11.]\n",
            "Print Q-values for the first three states for brevity\n",
            "State: (0.043490198, -0.0029694792, -0.041758236, 0.012194062) Q-values: [10.  0.]\n",
            "\n"
          ]
        }
      ]
    },
    {
      "cell_type": "code",
      "source": [],
      "metadata": {
        "id": "38Wmt6a-KZ1m"
      },
      "execution_count": null,
      "outputs": []
    }
  ]
}