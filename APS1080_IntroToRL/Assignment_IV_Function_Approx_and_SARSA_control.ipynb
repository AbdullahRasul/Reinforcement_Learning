{
  "cells": [
    {
      "cell_type": "markdown",
      "metadata": {
        "id": "5n0een57cX4y"
      },
      "source": [
        "# **APS1080: Introduction to Reinforcement Learning**\n",
        "---\n",
        "\n",
        "**Student Name**:\n",
        "\n",
        "---\n",
        "\n",
        "\n",
        "\n",
        "**Student ID:**\n",
        "\n",
        "---\n",
        "**Assignment IV**: Function Approx and SARSA control\n",
        "\n",
        "\n",
        "------"
      ]
    },
    {
      "cell_type": "markdown",
      "metadata": {
        "id": "-5-hc4fScnjp"
      },
      "source": [
        "You will use function approximation to devise controllers for the mountain car and/or cart pole problems. You may chose which of the two you wish to attempt, and will use the fapprox techniques you explored in Exercise IV for this assignment.\n",
        "\n",
        "The goal is to employ the SARSA(n) (n>=0) fapprox techniques of C10 to control the environment of choice.\n",
        "\n",
        "There are a variety of solutions that have been posted on the internet; most of these use offline training, in contrast to what the textbook shows. The textbook is showing the more appropriate solution technique and you must use that. You may use the internet-based solutions as a guide on how to set your neural network complexity (# layers, # neurons), however, you must use the 10.1 or 10.2 algorithms.\n",
        "\n",
        "Exercise IV should have provided you a template for how to do this: you will use the stochastic gradient descent algorithm, where the reference (\"training input\") will come from the 10.1 or 10.2 algorithms.\n",
        "\n",
        "Submit you code as solver.py and results.pdf that summarizes the results of your implementation (NN structure, algorithm selected, training characteristics, and performance.\n",
        "\n",
        "Ref: Files/stochastic_gradient_descent_example.py"
      ]
    },
    {
      "cell_type": "markdown",
      "metadata": {
        "id": "tOTYk71SsI4C"
      },
      "source": [
        "----\n",
        "\n",
        "## **Prelims**"
      ]
    },
    {
      "cell_type": "code",
      "execution_count": null,
      "metadata": {
        "id": "L6L11hH9anOK"
      },
      "outputs": [],
      "source": [
        "!apt-get install -y xvfb python-opengl > /dev/null 2>&1\n",
        "!pip install gym pyvirtualdisplay > /dev/null 2>&1\n",
        "!sudo apt-get install xvfb"
      ]
    },
    {
      "cell_type": "code",
      "execution_count": 48,
      "metadata": {
        "id": "Fg3kH8ytsmDA"
      },
      "outputs": [],
      "source": [
        "import gym\n",
        "import matplotlib.pyplot as plt\n",
        "from IPython import display as ipythondisplay\n",
        "from collections import defaultdict\n",
        "\n",
        "\n",
        "import numpy as np\n",
        "import tensorflow as tf\n",
        "import random\n",
        "from collections import deque\n",
        "\n",
        "import keras\n",
        "\n",
        "from matplotlib import pyplot as plt\n",
        "from tensorflow.keras.models import Sequential, Model\n",
        "from tensorflow.keras import layers, models\n",
        "from tensorflow.keras.layers import Dense, Input\n",
        "from tensorflow.keras.optimizers import SGD\n"
      ]
    },
    {
      "cell_type": "code",
      "execution_count": null,
      "metadata": {
        "id": "368LLc87HJte"
      },
      "outputs": [],
      "source": [
        "from pyvirtualdisplay import Display\n",
        "display = Display(visible=0, size=(400, 300))\n",
        "display.start()"
      ]
    },
    {
      "cell_type": "code",
      "execution_count": null,
      "metadata": {
        "id": "PkwtrUT-j-I5"
      },
      "outputs": [],
      "source": [
        "def round_state(state):\n",
        "    state[0] = round(state[0], 1)\n",
        "    state[1] = round(state[1], 2)\n",
        "    return state\n",
        "\n",
        "env = gym.make(\"MountainCar-v0\")\n",
        "actionSpaceSize = env.action_space.n"
      ]
    },
    {
      "cell_type": "code",
      "execution_count": null,
      "metadata": {
        "colab": {
          "base_uri": "https://localhost:8080/",
          "height": 413
        },
        "id": "fhGDjE-fsGRH",
        "outputId": "4125cb48-0683-4bdc-e281-8cd725a7517e"
      },
      "outputs": [
        {
          "name": "stdout",
          "output_type": "stream",
          "text": [
            "Iterations that were run: 99\n"
          ]
        },
        {
          "data": {
            "image/png": "[encoded data removed]",
            "text/plain": [
              "<Figure size 640x480 with 1 Axes>"
            ]
          },
          "metadata": {},
          "output_type": "display_data"
        }
      ],
      "source": [
        "# Create the MountainCar environment for exploring the environment.\n",
        "\n",
        "# Initialize the MountainCar environment from OpenAI Gym\n",
        "\n",
        "env = gym.make(\"MountainCar-v0\")\n",
        "\n",
        "# Reset the environment to its initial state\n",
        "env.reset()\n",
        "\n",
        "# Render the initial frame as an RGB array\n",
        "prev_screen = env.render(mode='rgb_array')\n",
        "\n",
        "actionSpaceSize = env.action_space.n\n",
        "\n",
        "plt.imshow(prev_screen)  # Display the initial frame\n",
        "\n",
        "# Run a random policy for a maximum of 100 steps\n",
        "for i in range(100):\n",
        "    action = env.action_space.sample()  # Sample a random action from the action space\n",
        "    print(\"step i\", i, \"action=\", action)  # Print the current step and chosen action\n",
        "    obs, reward, done, info = env.step(action)  # Apply the action to the environment and get the results\n",
        "    print(\"obs=\", obs, \"reward=\", reward, \"done=\", done, \"info=\", info)  # Print the observation, reward, done flag, and info\n",
        "\n",
        "    screen = env.render(mode='rgb_array')  # Render the current frame as an RGB array\n",
        "    plt.imshow(screen)  # Display the current frame\n",
        "    ipythondisplay.clear_output(wait=True)  # Clear the current display\n",
        "    ipythondisplay.display(plt.gcf())  # Display the updated frame\n",
        "\n",
        "    if done:  # Check if the episode is finished\n",
        "        break  # Exit the loop if the episode is finished\n",
        "\n",
        "# Clear the final display and close the environment\n",
        "ipythondisplay.clear_output(wait=True)\n",
        "env.close()  # Close the environment\n",
        "print(\"Iterations that were run:\", i)  # Print the number of iterations that were run\n",
        "\n"
      ]
    },
    {
      "cell_type": "markdown",
      "metadata": {
        "id": "T0xbyLIqcsYa"
      },
      "source": [
        "----\n",
        "## **Construct a neural network**"
      ]
    },
    {
      "cell_type": "code",
      "execution_count": 52,
      "metadata": {
        "colab": {
          "base_uri": "https://localhost:8080/"
        },
        "id": "4dNEErYUkCB9",
        "outputId": "036832fb-a3cf-46c8-f0b5-9459ead53268"
      },
      "outputs": [
        {
          "output_type": "stream",
          "name": "stdout",
          "text": [
            "Model: \"sequential_34\"\n",
            "_________________________________________________________________\n",
            " Layer (type)                Output Shape              Param #   \n",
            "=================================================================\n",
            " dense_102 (Dense)           (None, 64)                192       \n",
            "                                                                 \n",
            " dense_103 (Dense)           (None, 64)                4160      \n",
            "                                                                 \n",
            " dense_104 (Dense)           (None, 3)                 195       \n",
            "                                                                 \n",
            "=================================================================\n",
            "Total params: 4547 (17.76 KB)\n",
            "Trainable params: 4547 (17.76 KB)\n",
            "Non-trainable params: 0 (0.00 Byte)\n",
            "_________________________________________________________________\n"
          ]
        }
      ],
      "source": [
        "# Initialize the MountainCar environment from OpenAI Gym\n",
        "env = gym.make(\"MountainCar-v0\")\n",
        "\n",
        "# Define the Custom Neural Network class\n",
        "class Neural_Network:\n",
        "    def __init__(self, hidden_units, input_space, output_space):\n",
        "        self.hidden_units = hidden_units  # Number of units in the hidden layer\n",
        "        self.input_space = input_space  # Dimensionality of the input space\n",
        "        self.output_space = output_space  # Dimensionality of the output space\n",
        "        self.model = self.build_model()  # Build the model\n",
        "\n",
        "    def build_model(self):\n",
        "        # Build a Sequential neural network model\n",
        "        model = models.Sequential([\n",
        "            layers.Dense(self.hidden_units, input_dim=self.input_space, activation='relu'),  # First hidden layer\n",
        "            layers.Dense(self.hidden_units, activation='relu'),  # Second hidden layer\n",
        "            layers.Dense(self.output_space)  # Output layer\n",
        "        ])\n",
        "        model.compile(optimizer=tf.keras.optimizers.SGD(), loss='mse')  # Compile the model with SGD optimizer and mean squared error loss\n",
        "        return model\n",
        "\n",
        "    def __call__(self, inputs):\n",
        "        # Allow the instance to be called as a function to get predictions\n",
        "        return self.model(inputs)\n",
        "\n",
        "\n",
        "# Instantiate the neural network with 64 hidden units, input space and output space from the environment\n",
        "model = Neural_Network(64, env.observation_space.shape[0], env.action_space.n)\n",
        "model.model.summary()  # Print the model summary"
      ]
    },
    {
      "cell_type": "markdown",
      "metadata": {
        "id": "Sa3xxoLMkGJ1"
      },
      "source": [
        "-----\n",
        "# **Training:**\n",
        "\n",
        "## **Semi Gradient SARSA (textbook)**\n",
        "\n",
        "Note: *some hints were taken from the pseudo code provided during the lecutre on July 13, 2024*"
      ]
    },
    {
      "cell_type": "code",
      "execution_count": null,
      "metadata": {
        "colab": {
          "base_uri": "https://localhost:8080/",
          "height": 1000
        },
        "id": "Tpe8Cu3a-cYt",
        "outputId": "6e6cb48f-6064-4066-96e0-290970dd9768"
      },
      "outputs": [
        {
          "name": "stdout",
          "output_type": "stream",
          "text": [
            "For episode 20 Average Reward: -200.0\n",
            "For episode 40 Average Reward: -200.0\n",
            "For episode 60 Average Reward: -199.9\n",
            "For episode 80 Average Reward: -199.75\n",
            "For episode 100 Average Reward: -200.0\n",
            "For episode 120 Average Reward: -200.0\n",
            "For episode 140 Average Reward: -197.0\n",
            "For episode 160 Average Reward: -196.2\n",
            "For episode 180 Average Reward: -186.55\n",
            "For episode 200 Average Reward: -180.5\n",
            "For episode 220 Average Reward: -195.95\n",
            "For episode 240 Average Reward: -200.0\n",
            "For episode 260 Average Reward: -200.0\n",
            "For episode 280 Average Reward: -200.0\n",
            "For episode 300 Average Reward: -200.0\n",
            "For episode 320 Average Reward: -200.0\n",
            "For episode 340 Average Reward: -200.0\n",
            "For episode 360 Average Reward: -200.0\n",
            "For episode 380 Average Reward: -200.0\n",
            "For episode 400 Average Reward: -200.0\n",
            "For episode 420 Average Reward: -200.0\n",
            "For episode 440 Average Reward: -200.0\n",
            "For episode 460 Average Reward: -200.0\n",
            "For episode 480 Average Reward: -200.0\n",
            "For episode 500 Average Reward: -200.0\n",
            "For episode 520 Average Reward: -200.0\n",
            "For episode 540 Average Reward: -200.0\n",
            "For episode 560 Average Reward: -200.0\n",
            "For episode 580 Average Reward: -200.0\n",
            "For episode 600 Average Reward: -200.0\n",
            "For episode 620 Average Reward: -200.0\n",
            "For episode 640 Average Reward: -200.0\n",
            "For episode 660 Average Reward: -200.0\n",
            "For episode 680 Average Reward: -200.0\n",
            "For episode 700 Average Reward: -200.0\n",
            "For episode 720 Average Reward: -200.0\n",
            "For episode 740 Average Reward: -200.0\n",
            "For episode 760 Average Reward: -200.0\n",
            "For episode 780 Average Reward: -200.0\n",
            "For episode 800 Average Reward: -200.0\n",
            "For episode 820 Average Reward: -200.0\n",
            "For episode 840 Average Reward: -200.0\n",
            "For episode 860 Average Reward: -200.0\n",
            "For episode 880 Average Reward: -200.0\n",
            "For episode 900 Average Reward: -200.0\n",
            "For episode 920 Average Reward: -200.0\n",
            "For episode 940 Average Reward: -200.0\n",
            "For episode 960 Average Reward: -200.0\n",
            "For episode 980 Average Reward: -200.0\n",
            "For episode 1000 Average Reward: -200.0\n"
          ]
        },
        {
          "data": {
            "image/png": "[encoded data removed]",
            "text/plain": [
              "<Figure size 640x480 with 1 Axes>"
            ]
          },
          "metadata": {},
          "output_type": "display_data"
        },
        {
          "name": "stdout",
          "output_type": "stream",
          "text": [
            "Max Average Reward is -180.5 Total Average Reward is -199.117\n"
          ]
        }
      ],
      "source": [
        "\n",
        "\n",
        "\n",
        "env = gym.make(\"MountainCar-v0\")\n",
        "\n",
        "# Function for Semi-Gradient SARSA(0)\n",
        "def Semi_Gradient_Sarsa(env, model, max_episodes, alpha, gamma, epsilon):\n",
        "    sum_reward = 0  # Initialize sum of rewards for current block of episodes\n",
        "    total_sum_reward = 0  # Initialize total sum of rewards\n",
        "    avg_reward = []  # List to store average rewards\n",
        "\n",
        "    optimizer = tf.keras.optimizers.SGD(learning_rate=alpha)  # Use SGD optimizer with specified learning rate\n",
        "    f_ppError = tf.keras.losses.MeanSquaredError()  # Mean squared error for computing loss\n",
        "\n",
        "    for e in range(max_episodes):\n",
        "        state = env.reset()  # Reset the environment for a new episode\n",
        "        state = tf.convert_to_tensor([state], dtype=tf.float32)  # Convert state to tensor\n",
        "\n",
        "        if random.random() < epsilon:\n",
        "            action = np.random.choice(env.action_space.n)  # Random action (exploration)\n",
        "        else:\n",
        "            action = np.argmax(model(state)[0])  # Greedy action (exploitation)\n",
        "\n",
        "        for t in range(200):\n",
        "            next_state, reward, done, _ = env.step(action)  # Take a step in the environment\n",
        "            reward = tf.convert_to_tensor([reward], dtype=tf.float32)  # Convert reward to tensor\n",
        "            next_state = tf.convert_to_tensor([next_state], dtype=tf.float32)  # Convert next state to tensor\n",
        "\n",
        "            if done:\n",
        "                target_q = reward  # If done, target Q value is the reward\n",
        "            else:\n",
        "                if random.random() < epsilon:\n",
        "                    next_action = np.random.choice(env.action_space.n)  # Random action (exploration)\n",
        "                else:\n",
        "                    next_action = np.argmax(model(next_state)[0])  # Greedy action (exploitation)\n",
        "                future_reward = model(next_state)[0, next_action]  # Predicted future reward\n",
        "                target_q = reward + gamma * future_reward  # Compute target Q value\n",
        "\n",
        "            with tf.GradientTape() as tape:\n",
        "                q_value = model(state)  # Current Q value\n",
        "                q_value_target = q_value.numpy()  # Convert Q value to numpy array\n",
        "                q_value_target[0, action] = target_q  # Update target Q value\n",
        "                ppError = f_ppError(q_value_target, q_value)  # Compute loss\n",
        "\n",
        "            grads = tape.gradient(ppError, model.model.trainable_variables)  # Compute gradients\n",
        "            optimizer.apply_gradients(zip(grads, model.model.trainable_variables))  # Apply gradients\n",
        "\n",
        "            state = next_state  # Update state\n",
        "            action = next_action  # Update action\n",
        "\n",
        "            sum_reward += reward.numpy()[0]  # Add reward to sum_reward\n",
        "            total_sum_reward += reward.numpy()[0]  # Add reward to total_sum_reward\n",
        "\n",
        "            if done:\n",
        "                break  # End the episode if done\n",
        "\n",
        "        if (e + 1) % 20 == 0:\n",
        "            avg = sum_reward / 20  # Calculate average reward for the last 20 episodes\n",
        "            print(f\"For episode {e + 1}, Average Reward: {avg}\")\n",
        "            avg_reward.append(avg)  # Append average reward to the list\n",
        "            sum_reward = 0  # Reset sum_reward\n",
        "\n",
        "    plt.plot(np.arange(20, max_episodes + 1, 20), avg_reward)  # Plot average rewards\n",
        "    plt.xlabel(\"Episodes\")\n",
        "    plt.ylabel(\"Average Reward\")\n",
        "    plt.grid(True)\n",
        "    plt.show()\n",
        "\n",
        "    print(\"Max Average Reward is\", np.max(avg_reward), \"Total Average Reward is\", total_sum_reward / max_episodes)\n",
        "    return model  # Return the trained model\n",
        "\n",
        "# Hyperparameters for training\n",
        "max_episodes = 1000\n",
        "alpha = 0.005\n",
        "gamma = 0.99\n",
        "epsilon = 0.005\n",
        "\n",
        "# Train the model using Semi-Gradient SARSA\n",
        "trained_model = Semi_Gradient_Sarsa(env, model, max_episodes, alpha, gamma, epsilon)\n"
      ]
    },
    {
      "cell_type": "markdown",
      "source": [
        "### Implementation\n",
        "\n",
        "**Neural Network Structure**:\n",
        "- **Hidden Units**: 64 units\n",
        "- **Layers**:\n",
        "  - Input Layer: Dimensionality equal to the state space of the MountainCar environment.\n",
        "  - Two Hidden Layers: Each with 64 units and ReLU activation function.\n",
        "  - Output Layer: Dimensionality equal to the action space of the MountainCar environment.\n",
        "\n",
        "**Algorithm Selected**:\n",
        "- **Semi-Gradient SARSA**: This approach combines the SARSA algorithm with function approximation using a neural network. The value function is approximated using the neural network, and updates are made using semi-gradient descent.\n",
        "\n",
        "- **HINTS were taken from the pseudo code presented in the lecture and 10.1 from the textbook**\n",
        "\n",
        "**Training Characteristics**:\n",
        "- **Episodes**: 1000 episodes\n",
        "- **Learning Rate (Alpha)**: Tested with different learning rates\n",
        "- **Discount Factor (Gamma)**: 0.99\n",
        "- **Epsilon**: 0.1 (for epsilon-greedy action selection)\n",
        "- **Optimizers**: Tried both Adam and SGD (Stochastic Gradient Descent)\n",
        "\n",
        "### Performance Analysis\n",
        "\n",
        "During the training process, the average reward was logged every 20 episodes. Below are the results:\n",
        "\n",
        "- **Early Performance**:\n",
        "  - Episodes 20 to 100: The average reward remained consistently at -200.0, indicating no progress.\n",
        "  - Episodes 120 to 140: Slight improvements were observed with average rewards moving to -197.0 and -196.2 respectively.\n",
        "\n",
        "- **Mid Training Performance**:\n",
        "  - Episodes 160 to 200: The average reward showed signs of improvement, reaching -180.5 at episode 200.\n",
        "  - Episodes 220 to 300: Fluctuations were observed, with the average reward sometimes returning to -200.0, indicating instability or poor learning.\n",
        "\n",
        "- **Late Training Performance**:\n",
        "  - Episodes 320 to 1000: The average reward stagnated at -200.0, showing no further improvement.\n",
        "\n",
        "### Comparative Analysis\n",
        "\n",
        "- **Optimizer Comparison**:\n",
        "  - **Adam**: Faster convergence initially, but often resulted in getting stuck at local optima.\n",
        "  - **SGD**: Slower convergence but showed more consistent updates. However, the overall learning was still inadequate.\n",
        "\n",
        "- **Learning Rate (Alpha) Experiments**:\n",
        "  - **Lower Alpha (e.g., 0.001)**: Slower learning and more stable, but with poor performance.\n",
        "  - **Higher Alpha (e.g., 0.01)**: Faster learning initially, but often resulted in instability and divergence.\n",
        "\n",
        "### Observations\n",
        "\n",
        "- Compared to SARSA (assignment 3), the semi-gradient SARSA with function approximation showed faster initial learning but struggled to maintain progress. This was particularly evident in the early episodes where it showed some signs of improvement but then plateaued.\n"
      ],
      "metadata": {
        "id": "6fQI_hjUGsVL"
      }
    }
  ],
  "metadata": {
    "colab": {
      "provenance": []
    },
    "kernelspec": {
      "display_name": "Python 3",
      "name": "python3"
    },
    "language_info": {
      "name": "python"
    }
  },
  "nbformat": 4,
  "nbformat_minor": 0
}