{
  "nbformat": 4,
  "nbformat_minor": 0,
  "metadata": {
    "colab": {
      "provenance": []
    },
    "kernelspec": {
      "name": "python3",
      "display_name": "Python 3"
    }
  },
  "cells": [
    {
      "cell_type": "markdown",
      "source": [
        "# **APS1080: Introduction to Reinforcement Learning**\n",
        "---\n",
        "**Student Name**:\n",
        "\n",
        "---\n",
        "\n",
        "\n",
        "\n",
        "**Student ID:**\n",
        "\n",
        "---\n",
        "**Assignment 2:** Monte Carlo\n",
        "\n",
        "------"
      ],
      "metadata": {
        "id": "PqdoKLzmoaoE"
      }
    },
    {
      "cell_type": "markdown",
      "source": [
        "# **Exercises**\n",
        "--------\n",
        "**1. Explain clearly why V_pi is not useful in the MC development above?**\n",
        "\n",
        "\n",
        "In the context of Monte Carlo methods for reinforcement learning, $𝑉𝜋$ represents the value function under a given policy\n",
        "$𝜋$. Specifically, $𝑉𝜋(𝑠)$ is the expected return (total discounted reward) starting from state $𝑠$ and following policy $𝜋$ thereafter. In the case of MC, $𝑉𝜋(𝑠)$ is not useful for the following reasons:\n",
        "\n",
        "- The MC methods discussed are designed for situations where we do not have a model of the environment (transition dynamics $𝑝$). Without a model, we cannot use analytical methods to derive $𝑉_𝜋$.\n",
        "- To improve the policy from $𝜋_𝑘$ to $𝜋_{𝑘+1}$, we need to know which action $𝑎$ in state $𝑠$ maximizes the expected return. This requires the action-value function $𝑄_{𝜋𝑘}(𝑠,𝑎)$, not just $𝑉_{𝜋𝑘}(𝑠)$.\n",
        "-Monte Carlo methods are based on sampling and averaging returns to learn value functions. Since we lack the transition dynamics, the focus is on learning through experience. To effectively learn and improve the policy, the agent must explore the entire state-action space $𝑆×𝐴$. This requires a stochastic policy where every action $𝑎$ has a non-zero probability of being chosen in every state $𝑠$. This ensures sufficient coverage of all state-action pairs, which is critical for accurate estimation of $𝑄_k$.\n",
        "- The requirement for effective learning is that the agent experiences the full state-action space. This means the episodes must cover all possible state-action pairs sufficiently. $𝑉_𝜋$ does not provide direct information about action values, making it less useful for ensuring thorough exploration.\n",
        "$𝑄_𝜋(𝑠,𝑎)$, on the other hand, directly informs the agent about the value of specific actions in specific states, guiding exploration and policy improvement.\n",
        "- MC methods involve updating value estimates based on empirical returns from sampled episodes. These updates are naturally formulated in terms of state-action pairs ($𝑄_𝜋(𝑠,𝑎)$) rather than just states.\n",
        "\n",
        "--\n",
        "\n",
        "\n",
        "\n",
        "**2. The MC algorithm so far (ref: p 99), requires an infinite number of episodes for Eval to converge on Q_pi_k (step k). We can modify this algorithm to the practical variant where Eval is truncated (c.f., DynProg GPI). In this case:**\n",
        "\n",
        "--\n",
        "\n",
        "**a. Will we obtain Q_pi_k from eval?**\n",
        "\n",
        "With a truncated evaluation in the modified MC algorithm, we will obtain an approximation of $𝑄_{𝜋𝑘}$ rather than the exact $Q_{πk}$.\n",
        "\n",
        "--\n",
        "\n",
        "**b. If not why are we able to truncate Eval? Explain clearly.**\n",
        "\n",
        "We are able to truncate the evaluation because the goal is to iteratively improve the policy rather than to precisely compute\n",
        "$𝑄_{𝜋k}$. Truncating evaluation still provides useful estimates of action values, allowing for practical and gradual policy improvement. This aligns with the principle of Generalized Policy Iteration (GPI), where approximate evaluations suffice for driving the policy towards optimality over multiple iterations.\n",
        "\n",
        "--\n",
        "\n",
        "**c. Assuming ES (i.e., thorough sampling of the S x A space), and the above truncated Eval_trunc, is it possible to converge on a sub-optimal policy pi_c? Is this a stable fixed point of the GPI for MC? Explain clearly.**\n",
        "\n",
        "It is possible to converge on a sub-optimal policy using truncated evaluation, even with Exploring Starts (ES). This sub-optimal policy can be a stable fixed point of the GPI process because truncated evaluations might introduce approximation errors, and the iterative policy improvement step could stabilize on these sub-optimal approximations. Consequently, the policy may stop improving and converge to a sub-optimal policy.\n",
        "\n",
        "--\n",
        "\n",
        "**3. Explain how you can synthesize a stochastic policy given what you know so far (you don't need to read ahead).**\n",
        "\n",
        "To synthesize a stochastic policy using Monte Carlo methods with Exploring Starts and truncated evaluation, start by initializing a random policy where each action has a non-zero probability of being chosen in each state, and initialize action-value estimates arbitrarily. For each episode, begin from a randomly chosen state-action pair to ensure thorough exploration. Follow the current policy to generate episodes, and for each state-action pair in the episode, calculate and update action-value estimates using truncated returns. Improve the policy by making it epsilon-greedy with respect to the updated action-value estimates, meaning with high probability, choose the best-known action, and with a small probability, choose a random action to encourage exploration. Repeat this process of generating episodes, updating action values, and refining the policy until it stabilizes or a set number of iterations is reached. This iterative approach enables the development of a stochastic policy that effectively balances exploration and exploitation based on sampled experiences.\n",
        "\n",
        "-----"
      ],
      "metadata": {
        "id": "H-4kJ7zjpzOT"
      }
    },
    {
      "cell_type": "code",
      "metadata": {
        "id": "1XDvssQd64Pf"
      },
      "source": [
        "!apt-get install -y xvfb python-opengl > /dev/null 2>&1"
      ],
      "execution_count": null,
      "outputs": []
    },
    {
      "cell_type": "code",
      "metadata": {
        "id": "F5esgX013vPe"
      },
      "source": [
        "!pip install gym pyvirtualdisplay > /dev/null 2>&1"
      ],
      "execution_count": null,
      "outputs": []
    },
    {
      "cell_type": "code",
      "source": [
        "!sudo apt-get install xvfb\n"
      ],
      "metadata": {
        "id": "M4auH7yOHEcb"
      },
      "execution_count": null,
      "outputs": []
    },
    {
      "cell_type": "code",
      "metadata": {
        "id": "Qbi2xaFo31Sj"
      },
      "source": [
        "import gym\n",
        "import numpy as np\n",
        "import matplotlib.pyplot as plt\n",
        "from IPython import display as ipythondisplay\n",
        "from collections import defaultdict\n"
      ],
      "execution_count": null,
      "outputs": []
    },
    {
      "cell_type": "code",
      "metadata": {
        "id": "FGqXqJxoAsHG",
        "colab": {
          "base_uri": "https://localhost:8080/"
        },
        "outputId": "6737bc98-7734-4f3c-c52f-c7ce70288f7b"
      },
      "source": [
        "from pyvirtualdisplay import Display\n",
        "display = Display(visible=0, size=(400, 300))\n",
        "display.start()"
      ],
      "execution_count": null,
      "outputs": [
        {
          "output_type": "execute_result",
          "data": {
            "text/plain": [
              "<pyvirtualdisplay.display.Display at 0x7dce64c49ea0>"
            ]
          },
          "metadata": {},
          "execution_count": 17
        }
      ]
    },
    {
      "cell_type": "code",
      "metadata": {
        "id": "6L4YayzR4FYj",
        "colab": {
          "base_uri": "https://localhost:8080/",
          "height": 413
        },
        "outputId": "a917ae2a-2fda-44c9-b445-43628ace02b8"
      },
      "source": [
        "env = gym.make(\"CartPole-v0\")\n",
        "env.reset()\n",
        "prev_screen = env.render(mode='rgb_array')\n",
        "plt.imshow(prev_screen)\n",
        "\n",
        "for i in range(50000):\n",
        "  action = env.action_space.sample()\n",
        "  print(\"step i\",i,\"action=\",action)\n",
        "  obs, reward, done, info = env.step(action)\n",
        "  print(\"obs=\",obs,\"reward=\",reward,\"done=\",done,\"info=\",info)\n",
        "  screen = env.render(mode='rgb_array')\n",
        "\n",
        "  plt.imshow(screen)\n",
        "  ipythondisplay.clear_output(wait=True)\n",
        "  ipythondisplay.display(plt.gcf())\n",
        "\n",
        "  if done:\n",
        "    break\n",
        "\n",
        "ipythondisplay.clear_output(wait=True)\n",
        "env.close()\n",
        "print(\"Iterations that were run:\",i)"
      ],
      "execution_count": null,
      "outputs": [
        {
          "output_type": "stream",
          "name": "stdout",
          "text": [
            "Iterations that were run: 28\n"
          ]
        },
        {
          "output_type": "display_data",
          "data": {
            "text/plain": [
              "<Figure size 640x480 with 1 Axes>"
            ],
            "image/png": "[encoded data removed]"
          },
          "metadata": {}
        }
      ]
    },
    {
      "cell_type": "code",
      "source": [
        "\n",
        "# Initialize environment\n",
        "env = gym.make(\"CartPole-v0\")\n",
        "\n",
        "# Print state and action space sizes\n",
        "state_space_size = env.observation_space.shape[0]  # Get the size of the state space\n",
        "action_space_size = env.action_space.n  # Get the size of the action space\n",
        "print(\"State space size:\", state_space_size)\n",
        "print(\"Action space size:\", action_space_size)\n",
        "\n",
        "# Define a function to round the state values\n",
        "def round_state(state):\n",
        "    return tuple(round(x, 1) for x in state)\n",
        "\n",
        "# Define a function to generate an episode\n",
        "def generate_episode(env):\n",
        "    episode = []  # Initialize an empty list to store the episode\n",
        "    state = env.reset()  # Reset the environment to start a new episode\n",
        "    state = round_state(state)  # Round the state values\n",
        "    for _ in range(50000):\n",
        "        action = np.random.randint(action_space_size)  # Choose a random action\n",
        "        next_state, reward, done, _ = env.step(action)  # Take a step in the environment\n",
        "        next_state = round_state(next_state)  # Round the next state values\n",
        "        episode.append((state, action, reward))  # Append the state, action, and reward to the episode\n",
        "        state = next_state  # Update the current state\n",
        "        if done:  # If the episode is done\n",
        "            break  # Exit the loop\n",
        "    return episode  # Return the generated episode\n",
        "\n",
        "# Off-Policy Monte Carlo Control algorithm\n",
        "def off_MC_control(env, max_episodes, gamma):\n",
        "    Q = defaultdict(lambda: np.zeros(action_space_size))  # Initialize Q-values\n",
        "    C = defaultdict(lambda: np.zeros(action_space_size))  # Initialize visitation counts\n",
        "\n",
        "    for episode_num in range(max_episodes + 1):  # Iterate over episodes\n",
        "        episode = generate_episode(env)  # Generate an episode\n",
        "        G, W = 0, 1  # Initialize return and importance sampling ratio\n",
        "\n",
        "        for t in range(len(episode) - 1, -1, -1):  # Loop backwards through the episode\n",
        "            state, action, reward = episode[t]  # Get state, action, and reward\n",
        "            G = gamma * G + reward  # Update return\n",
        "            C[state][action] += W  # Update visitation counts\n",
        "            Q[state][action] += (G - Q[state][action]) * (W / C[state][action])  # Update Q-values\n",
        "            pi_S_t = np.argmax(Q[state])  # Greedy policy\n",
        "            if action != pi_S_t:  # Check if action is not optimal\n",
        "                break  # Exit the loop\n",
        "            W *= 1. / (1.0 / action_space_size)  # Update importance sampling ratio\n",
        "\n",
        "\n",
        "        # Calculate and print average iterations\n",
        "        total_iterations = sum([len(episode) for episode in episode])\n",
        "        avg_iterations = total_iterations / (episode_num + 1)\n",
        "        print(\"Episode:\", episode_num, \"Average iterations:\", avg_iterations)\n",
        "\n",
        "    return Q  # Return the learned Q-values\n",
        "\n",
        "# Run Off-Policy Monte Carlo Control\n",
        "Q = off_MC_control(env, 10, 1)\n"
      ],
      "metadata": {
        "colab": {
          "base_uri": "https://localhost:8080/"
        },
        "id": "QsN3gOnT0tHd",
        "outputId": "168bc9fc-73b8-48c2-d2a4-0cca2c3b372e"
      },
      "execution_count": null,
      "outputs": [
        {
          "output_type": "stream",
          "name": "stdout",
          "text": [
            "State space size: 4\n",
            "Action space size: 2\n",
            "Episode: 0 Average iterations: 75.0\n",
            "Episode: 1 Average iterations: 18.0\n",
            "Episode: 2 Average iterations: 17.0\n",
            "Episode: 3 Average iterations: 11.25\n",
            "Episode: 4 Average iterations: 13.8\n",
            "Episode: 5 Average iterations: 16.0\n",
            "Episode: 6 Average iterations: 6.0\n",
            "Episode: 7 Average iterations: 10.125\n",
            "Episode: 8 Average iterations: 11.333333333333334\n",
            "Episode: 9 Average iterations: 4.8\n",
            "Episode: 10 Average iterations: 3.272727272727273\n"
          ]
        }
      ]
    },
    {
      "cell_type": "code",
      "source": [],
      "metadata": {
        "id": "_4gK4wAbRTCl"
      },
      "execution_count": null,
      "outputs": []
    }
  ]
}